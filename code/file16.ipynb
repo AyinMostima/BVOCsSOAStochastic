{
 "cells": [
  {
   "cell_type": "code",
   "metadata": {
    "collapsed": true,
    "ExecuteTime": {
     "end_time": "2024-10-21T13:27:05.256965Z",
     "start_time": "2024-10-21T13:27:05.245964Z"
    }
   },
   "source": [
    "import pandas as pd\n",
    "import re\n",
    "import matplotlib.pyplot as plt\n",
    "import numpy as np\n",
    "import matplotlib\n",
    "%matplotlib inline\n",
    "import joblib"
   ],
   "outputs": [],
   "execution_count": 10
  },
  {
   "cell_type": "code",
   "source": [
    "datajhcon=[]\n",
    "datajhcon.append(pd.read_excel(r\"..\\8月数据代码\\data_jh.xlsx\"))\n",
    "datajhcon.append(pd.read_excel(r\"..\\6月数据代码\\data_jh.xlsx\"))\n",
    "datajhcon.append(pd.read_excel(r\"..\\7月数据代码\\data_jh.xlsx\"))\n",
    "datajhcon.append(pd.read_excel(r\"..\\2023 8月数据代码\\data_jh.xlsx\"))"
   ],
   "metadata": {
    "collapsed": false,
    "pycharm": {
     "name": "#%%\n"
    },
    "ExecuteTime": {
     "end_time": "2024-10-21T13:24:11.567877Z",
     "start_time": "2024-10-21T13:23:08.303069Z"
    }
   },
   "outputs": [],
   "execution_count": 2
  },
  {
   "cell_type": "code",
   "source": [
    "# 更改列名\n",
    "for df in datajhcon:\n",
    "    if '地面层风速' in df.columns:\n",
    "        df.rename(columns={'地面层风速': '风速'}, inplace=True)\n",
    "    elif '近地面层风速' in df.columns:\n",
    "        df.rename(columns={'近地面层风速': '风速'}, inplace=True)"
   ],
   "metadata": {
    "collapsed": false,
    "pycharm": {
     "name": "#%%\n"
    },
    "ExecuteTime": {
     "end_time": "2024-10-21T13:24:11.720897Z",
     "start_time": "2024-10-21T13:24:11.707889Z"
    }
   },
   "outputs": [],
   "execution_count": 3
  },
  {
   "cell_type": "code",
   "source": [
    "dataall=datajhcon\n",
    "columnall=[\"TVOC浓度\",'甲硫醇浓度', '1,3-丁二烯浓度', '丁烯浓度', '丙酮、丁烷浓度', '正丙醇浓度', '甲硫醚、乙硫醇浓度', '氯乙烷浓度', '异戊二烯浓度', '戊烯浓度', '戊烷、异戊烷浓度', '二甲基甲酰胺浓度', '甲酸乙酯浓度', '二硫化碳、丙硫醇浓度', '苯浓度', '环己烯浓度', '己烯、甲基环戊烷浓度', '正己烷、二甲基丁烷浓度', '乙硫醚、丁硫醇浓度', '甲苯浓度', '苯胺浓度', '二甲基二硫醚浓度', '1,1-二氯乙烯浓度', '甲基环己烷浓度', '正庚烷浓度', '三乙胺浓度', '乙酸正丙酯浓度', '二亚乙基三胺浓度', '苯乙烯浓度', '二甲苯、乙苯浓度', '1,3-二氯丙烯浓度', '正辛烷浓度', '乙酸正丁酯浓度', '己硫醇浓度', '二甲苯酚浓度', '三氯乙烯浓度', '二乙基苯浓度', '苯甲酸甲酯浓度', '磷酸三甲酯浓度', '正癸醇浓度', '二氯苯浓度', '二乙基苯胺浓度', '十一烷浓度', '四氯乙烯浓度', '正十二烷浓度', '二溴甲烷浓度', '1,2,4-三氯苯浓度', '正十三烷浓度', '1,2-二溴乙烷浓度', '0.25um', '0.28um', '0.30um', '0.35um', '0.40um', '0.45um', '0.50um', '0.58um', '0.65um', '0.70um', '0.80um', '1.00um', '1.30um', '1.60um', '2.00um', '2.50um', '3.00um', '3.50um', '4.00um', '5.00um', '6.50um', '7.50um', '8.50um', '10.00um', '12.50um', '15.00um', '17.50um', '20.00um', '25.00um', '30.00um', '32.00um', 'PM10', 'PM2.5', 'PM1', 'SO2', 'NOx', 'NO', \"NO2\",'CO', 'O3', 'NO2', '负氧离子', '地面层净辐射', '地面层温度', '地面层湿度',\"风速\"]\n",
    "column=[\"O3\",\"地面层净辐射\",\"地面层温度\",\"甲苯浓度\",\"PM2.5\", \"PM1\",\"地面层湿度\",\"NOx\",\"异戊二烯浓度\",\"1,3-丁二烯浓度\",\"丁烯浓度\",\"戊烯浓度\"]\n",
    "columnen=[\"O3\", \"GNR\", \"GT\", \"Toluene\", \"PM2.5\", \"PM1\", \"GH\", \"NOx\", \"Isoprene\", \"1,3-butadiene\", \"Butene\", \"Pentene\"]\n",
    "BVOCs=[\n",
    "    '1,3-丁二烯浓度',\n",
    "    '丁烯浓度',\n",
    "    '异戊二烯浓度',\n",
    "    '戊烯浓度',\n",
    "    '苯浓度',\n",
    "    '环己烯浓度',\n",
    "    '己烯、甲基环戊烷浓度',\n",
    "    '甲苯浓度',\n",
    "    '苯乙烯浓度',\n",
    "    '二甲苯、乙苯浓度'\n",
    "]"
   ],
   "metadata": {
    "collapsed": false,
    "pycharm": {
     "name": "#%%\n"
    },
    "ExecuteTime": {
     "end_time": "2024-10-21T13:24:11.767253Z",
     "start_time": "2024-10-21T13:24:11.754253Z"
    }
   },
   "outputs": [],
   "execution_count": 4
  },
  {
   "cell_type": "code",
   "source": [
    "M = len(dataall) # number of datasets\n",
    "T=[]\n",
    "for i in range(M):\n",
    "    T.append(dataall[i].shape[0])\n",
    "N = len(column) # number of variables\n",
    "data = {i: np.random.randn(T[i], N) for i in range(M)}\n",
    "datanp = {i: np.random.randn(T[i], N) for i in range(M)}"
   ],
   "metadata": {
    "collapsed": false,
    "pycharm": {
     "name": "#%%\n"
    },
    "ExecuteTime": {
     "end_time": "2024-10-21T13:24:11.860651Z",
     "start_time": "2024-10-21T13:24:11.816127Z"
    }
   },
   "outputs": [],
   "execution_count": 5
  },
  {
   "cell_type": "code",
   "execution_count": 19,
   "outputs": [],
   "source": [
    "for i in range(len(dataall)):\n",
    "    datatemp = dataall[i].copy()\n",
    "    datatemp.index = datatemp[\"Time\"]\n",
    "    datatemp = datatemp.drop(columns=[\"Time\"])\n",
    "    datatemp = datatemp.loc[:, column]\n",
    "    # datatemp.columns=columnen\n",
    "    data[i] = np.array(datatemp, dtype='float64')\n",
    "for i in range(len(dataall)):\n",
    "    datatemp = dataall[i].copy()\n",
    "    datatemp.index = datatemp[\"Time\"]\n",
    "    datatemp = datatemp.drop(columns=[\"Time\"])\n",
    "    datatemp = datatemp.loc[:, columnall]\n",
    "    # datatemp.columns=columnen\n",
    "    datanp[i] = datatemp"
   ],
   "metadata": {
    "collapsed": false,
    "pycharm": {
     "name": "#%%\n"
    }
   }
  },
  {
   "cell_type": "code",
   "execution_count": 20,
   "outputs": [
    {
     "data": {
      "text/plain": "['datajhS.pkl']"
     },
     "execution_count": 20,
     "metadata": {},
     "output_type": "execute_result"
    }
   ],
   "source": [
    "import joblib\n",
    "# 保存x\n",
    "joblib.dump(datanp, 'datanpjhS.pkl')\n",
    "joblib.dump(data, 'datajhS.pkl')"
   ],
   "metadata": {
    "collapsed": false,
    "pycharm": {
     "name": "#%%\n"
    }
   }
  },
  {
   "cell_type": "code",
   "execution_count": 21,
   "outputs": [],
   "source": [
    "datacmcon=[]\n",
    "datacmcon.append(pd.read_excel(r\"..\\8月数据代码\\data_cm.xlsx\"))\n",
    "datacmcon.append(pd.read_excel(r\"..\\9月数据代码\\data_cm.xlsx\"))\n",
    "datacmcon.append(pd.read_excel(r\"..\\7月数据代码\\data_cm.xlsx\"))\n",
    "datacmcon.append(pd.read_excel(r\"..\\2023 8月数据代码\\data_cm.xlsx\"))"
   ],
   "metadata": {
    "collapsed": false,
    "pycharm": {
     "name": "#%%\n"
    }
   }
  },
  {
   "cell_type": "code",
   "execution_count": 37,
   "outputs": [],
   "source": [
    "# 更改列名\n",
    "for df in datacmcon:\n",
    "    if '地面层风速' in df.columns:\n",
    "        df.rename(columns={'地面层风速': '风速'}, inplace=True)\n",
    "    elif '近地面层风速' in df.columns:\n",
    "        df.rename(columns={'近地面层风速': '风速'}, inplace=True)\n",
    "    elif 'TVOC' in df.columns:\n",
    "        df.rename(columns={'TVOC': 'TVOC浓度'}, inplace=True)"
   ],
   "metadata": {
    "collapsed": false,
    "pycharm": {
     "name": "#%%\n"
    }
   }
  },
  {
   "cell_type": "code",
   "execution_count": 34,
   "outputs": [],
   "source": [
    "dataall=datacmcon\n",
    "columnall=[\"TVOC浓度\",'甲硫醇浓度', '1,3-丁二烯浓度', '丁烯浓度', '丙酮、丁烷浓度', '正丙醇浓度', '甲硫醚、乙硫醇浓度', '氯乙烷浓度', '异戊二烯浓度', '戊烯浓度', '戊烷、异戊烷浓度', '二甲基甲酰胺浓度', '甲酸乙酯浓度', '二硫化碳、丙硫醇浓度', '苯浓度', '环己烯浓度', '己烯、甲基环戊烷浓度', '正己烷、二甲基丁烷浓度', '乙硫醚、丁硫醇浓度', '甲苯浓度', '苯胺浓度', '二甲基二硫醚浓度', '1,1-二氯乙烯浓度', '甲基环己烷浓度', '正庚烷浓度', '三乙胺浓度', '乙酸正丙酯浓度', '二亚乙基三胺浓度', '苯乙烯浓度', '二甲苯、乙苯浓度', '1,3-二氯丙烯浓度', '正辛烷浓度', '乙酸正丁酯浓度', '己硫醇浓度', '二甲苯酚浓度', '三氯乙烯浓度', '二乙基苯浓度', '苯甲酸甲酯浓度', '磷酸三甲酯浓度', '正癸醇浓度', '二氯苯浓度', '二乙基苯胺浓度', '十一烷浓度', '四氯乙烯浓度', '正十二烷浓度', '二溴甲烷浓度', '1,2,4-三氯苯浓度', '正十三烷浓度', '1,2-二溴乙烷浓度', '0.25um', '0.28um', '0.30um', '0.35um', '0.40um', '0.45um', '0.50um', '0.58um', '0.65um', '0.70um', '0.80um', '1.00um', '1.30um', '1.60um', '2.00um', '2.50um', '3.00um', '3.50um', '4.00um', '5.00um', '6.50um', '7.50um', '8.50um', '10.00um', '12.50um', '15.00um', '17.50um', '20.00um', '25.00um', '30.00um', '32.00um', 'PM10', 'PM2.5', 'PM1', 'SO2', 'NOx', 'NO', \"NO2\",'CO', 'O3', '负氧离子', '地面层净辐射', '地面层温度', '地面层湿度',\"风速\"]\n",
    "column=[\"O3\",\"地面层净辐射\",\"地面层温度\",\"甲苯浓度\",\"PM2.5\", \"PM1\",\"地面层湿度\",\"NOx\",\"异戊二烯浓度\",\"1,3-丁二烯浓度\",\"丁烯浓度\",\"戊烯浓度\"]\n",
    "columnen=[\"O3\", \"GNR\", \"GT\", \"Toluene\", \"PM2.5\", \"PM1\", \"GH\", \"NOx\", \"Isoprene\", \"1,3-butadiene\", \"Butene\", \"Pentene\"]\n",
    "BVOCs=[\n",
    "    '1,3-丁二烯浓度',\n",
    "    '丁烯浓度',\n",
    "    '异戊二烯浓度',\n",
    "    '戊烯浓度',\n",
    "    '苯浓度',\n",
    "    '环己烯浓度',\n",
    "    '己烯、甲基环戊烷浓度',\n",
    "    '甲苯浓度',\n",
    "    '苯乙烯浓度',\n",
    "    '二甲苯、乙苯浓度'\n",
    "]"
   ],
   "metadata": {
    "collapsed": false,
    "pycharm": {
     "name": "#%%\n"
    }
   }
  },
  {
   "cell_type": "code",
   "execution_count": 38,
   "outputs": [
    {
     "data": {
      "text/plain": "['datacmS.pkl']"
     },
     "execution_count": 38,
     "metadata": {},
     "output_type": "execute_result"
    }
   ],
   "source": [
    "M = len(dataall)  # number of datasets\n",
    "T = []\n",
    "for i in range(M):\n",
    "    T.append(dataall[i].shape[0])\n",
    "N = len(column)  # number of variables\n",
    "data = {i: np.random.randn(T[i], N) for i in range(M)}\n",
    "datanp = {i: np.random.randn(T[i], N) for i in range(M)}\n",
    "for i in range(len(dataall)):\n",
    "    datatemp = dataall[i].copy()\n",
    "    datatemp.index = datatemp[\"Time\"]\n",
    "    datatemp = datatemp.drop(columns=[\"Time\"])\n",
    "    datatemp = datatemp.loc[:, column]\n",
    "    # datatemp.columns=columnen\n",
    "    data[i] = np.array(datatemp, dtype='float64')\n",
    "for i in range(len(dataall)):\n",
    "    datatemp = dataall[i].copy()\n",
    "    datatemp.index = datatemp[\"Time\"]\n",
    "    datatemp = datatemp.drop(columns=[\"Time\"])\n",
    "    datatemp = datatemp.loc[:, columnall]\n",
    "    # datatemp.columns=columnen\n",
    "    datanp[i] = datatemp\n",
    "import joblib\n",
    "\n",
    "# 保存x\n",
    "joblib.dump(datanp, 'datanpcmS.pkl')\n",
    "joblib.dump(data, 'datacmS.pkl')"
   ],
   "metadata": {
    "collapsed": false,
    "pycharm": {
     "name": "#%%\n"
    }
   }
  },
  {
   "cell_type": "code",
   "execution_count": 3,
   "outputs": [],
   "source": [
    "Month = [ \"Aug\",\"Jun\", \"Jul\",\"Aug\"]"
   ],
   "metadata": {
    "collapsed": false,
    "pycharm": {
     "name": "#%%\n"
    }
   }
  },
  {
   "cell_type": "code",
   "execution_count": 9,
   "outputs": [],
   "source": [
    "def process_time(df):\n",
    "    df[\"Hour_Min_Sec\"] = df.index.time\n",
    "    df[\"Hour_Min\"] = df.index.strftime('%H:%M')\n",
    "    df[\"Hour\"] = df.index.hour\n",
    "    df[\"Month\"] = df.index.strftime('%b')  # Get month abbreviation in English\n",
    "    df[\"Day\"] = df.index.strftime('%d')  # Get specific date\\\n",
    "    return df\n",
    "\n",
    "\n",
    "def combinedata(data,comname):\n",
    "    combined_data = pd.concat(data, axis=0)\n",
    "    # grouped = combined_data.groupby(comname).agg([\"mean\", \"std\"])\n",
    "    grouped = combined_data\n",
    "    # Extract hour, minute, and second and convert to total seconds\n",
    "    if comname==\"Hour\":\n",
    "        grouped['Datetime'] = grouped.index\n",
    "        # grouped['seconds'] = grouped.index.astype(int) * 3600\n",
    "        grouped['seconds'] = grouped['Datetime'].dt.hour * 3600 + grouped['Datetime'].dt.minute * 60 + grouped['Datetime'].dt.second\n",
    "    else:\n",
    "        # Convert datetime.time to datetime.datetime for dt accessor\n",
    "        grouped['Datetime'] = pd.to_datetime(grouped.index.astype(str))\n",
    "        grouped['seconds'] = grouped['Datetime'].dt.hour * 3600 + grouped['Datetime'].dt.minute * 60 + grouped['Datetime'].dt.second\n",
    "\n",
    "    return grouped"
   ],
   "metadata": {
    "collapsed": false,
    "pycharm": {
     "name": "#%%\n"
    }
   }
  },
  {
   "cell_type": "code",
   "execution_count": 44,
   "outputs": [],
   "source": [
    "datajh = joblib.load(\"datanpjhS.pkl\")\n",
    "datacm = joblib.load(\"datanpcmS.pkl\")\n",
    "\n",
    "\n",
    "datajh_time_processed = [process_time(df) for i,df in enumerate(datajh.values())]\n",
    "datacm_time_processed = [process_time(df) for i,df  in enumerate(datacm.values())]\n",
    "groupedjh = combinedata(datajh_time_processed, \"Hour\")\n",
    "groupedcm = combinedata(datacm_time_processed, \"Hour\")"
   ],
   "metadata": {
    "collapsed": false,
    "pycharm": {
     "name": "#%%\n"
    }
   }
  },
  {
   "cell_type": "code",
   "execution_count": 46,
   "outputs": [],
   "source": [
    "groupedjh.to_csv(\"groupedjhS.csv\")\n",
    "groupedcm.to_csv(\"groupedcmS.csv\")"
   ],
   "metadata": {
    "collapsed": false,
    "pycharm": {
     "name": "#%%\n"
    }
   }
  },
  {
   "cell_type": "code",
   "execution_count": 2,
   "outputs": [],
   "source": [
    "datajhcon=[]\n",
    "datajhcon.append(pd.read_excel(r\"..\\8月数据代码\\datasoajh.xlsx\"))\n",
    "datajhcon.append(pd.read_excel(r\"..\\6月数据代码\\datasoajh.xlsx\"))\n",
    "datajhcon.append(pd.read_excel(r\"..\\7月数据代码\\datasoajh.xlsx\"))\n",
    "datajhcon.append(pd.read_excel(r\"..\\2023 8月数据代码\\datasoajh.xlsx\"))"
   ],
   "metadata": {
    "collapsed": false,
    "pycharm": {
     "name": "#%%\n"
    }
   }
  },
  {
   "cell_type": "code",
   "execution_count": 12,
   "outputs": [],
   "source": [
    "for i,j in enumerate(datajhcon):\n",
    "    datajhcon[i].index=pd.to_datetime(j[\"Time\"])"
   ],
   "metadata": {
    "collapsed": false,
    "pycharm": {
     "name": "#%%\n"
    }
   }
  },
  {
   "cell_type": "code",
   "execution_count": 13,
   "outputs": [],
   "source": [
    "datajh_time_processed = [process_time(df) for i,df in enumerate(datajhcon)]\n",
    "groupedjh = combinedata(datajh_time_processed, \"Hour\")"
   ],
   "metadata": {
    "collapsed": false,
    "pycharm": {
     "name": "#%%\n"
    }
   }
  },
  {
   "cell_type": "code",
   "execution_count": 15,
   "outputs": [],
   "source": [
    "groupedjh.to_csv(\"groupedjhSOA.csv\")"
   ],
   "metadata": {
    "collapsed": false,
    "pycharm": {
     "name": "#%%\n"
    }
   }
  },
  {
   "cell_type": "code",
   "execution_count": 16,
   "outputs": [],
   "source": [
    "datacmcon = []\n",
    "datacmcon.append(pd.read_excel(r\"..\\8月数据代码\\datasoacm.xlsx\"))\n",
    "datacmcon.append(pd.read_excel(r\"..\\6月数据代码\\datasoacm.xlsx\"))\n",
    "datacmcon.append(pd.read_excel(r\"..\\7月数据代码\\datasoacm.xlsx\"))\n",
    "datacmcon.append(pd.read_excel(r\"..\\2023 8月数据代码\\datasoacm.xlsx\"))\n",
    "for i, j in enumerate(datacmcon):\n",
    "    datacmcon[i].index = pd.to_datetime(j[\"Time\"])\n",
    "datacm_time_processed = [process_time(df) for i, df in enumerate(datacmcon)]\n",
    "groupedcm = combinedata(datacm_time_processed, \"Hour\")\n",
    "groupedcm.to_csv(\"groupedcmSOA.csv\")"
   ],
   "metadata": {
    "collapsed": false,
    "pycharm": {
     "name": "#%%\n"
    }
   }
  },
  {
   "metadata": {},
   "cell_type": "code",
   "outputs": [],
   "execution_count": null,
   "source": ""
  },
  {
   "metadata": {
    "ExecuteTime": {
     "end_time": "2024-10-21T13:32:45.058264Z",
     "start_time": "2024-10-21T13:32:45.044516Z"
    }
   },
   "cell_type": "code",
   "source": "import joblib",
   "outputs": [],
   "execution_count": 16
  },
  {
   "metadata": {
    "ExecuteTime": {
     "end_time": "2024-10-21T13:35:24.062767Z",
     "start_time": "2024-10-21T13:35:23.884767Z"
    }
   },
   "cell_type": "code",
   "source": [
    "datacm=joblib.load('datanpcm.pkl')\n",
    "datajh=joblib.load('datanpjh.pkl')"
   ],
   "outputs": [],
   "execution_count": 28
  },
  {
   "metadata": {
    "ExecuteTime": {
     "end_time": "2024-10-21T13:35:25.430065Z",
     "start_time": "2024-10-21T13:35:25.408342Z"
    }
   },
   "cell_type": "code",
   "source": [
    "Month = [\"Aug\", \"Sept\", \"Oct\", \"Nov\", \"Dec\", \"Jan\", \"Feb\", \"Mar\", \"Apr\", \"May\", \"Jun\", \"Jul\"]\n",
    "\n",
    "\n",
    "def process_time(df):\n",
    "    df[\"Hour_Min_Sec\"] = df.index.time\n",
    "    df[\"Hour_Min\"] = df.index.strftime('%H:%M')\n",
    "    df[\"Hour\"] = df.index.hour\n",
    "    df[\"Month\"] = df.index.strftime('%b')  # Get month abbreviation in English\n",
    "    df[\"Day\"] = df.index.strftime('%d')  # Get specific date\\\n",
    "    return df\n",
    "\n",
    "\n",
    "def combinedata(data, comname):\n",
    "    combined_data = pd.concat(data, axis=0)\n",
    "    # grouped = combined_data.groupby(comname).agg([\"mean\", \"std\"])\n",
    "    grouped = combined_data\n",
    "    # Extract hour, minute, and second and convert to total seconds\n",
    "    if comname == \"Hour\":\n",
    "        grouped['Datetime'] = grouped.index\n",
    "        # grouped['seconds'] = grouped.index.astype(int) * 3600\n",
    "        grouped['seconds'] = grouped['Datetime'].dt.hour * 3600 + grouped['Datetime'].dt.minute * 60 + grouped[\n",
    "            'Datetime'].dt.second\n",
    "    else:\n",
    "        # Convert datetime.time to datetime.datetime for dt accessor\n",
    "        grouped['Datetime'] = pd.to_datetime(grouped.index.astype(str))\n",
    "        grouped['seconds'] = grouped['Datetime'].dt.hour * 3600 + grouped['Datetime'].dt.minute * 60 + grouped[\n",
    "            'Datetime'].dt.second\n",
    "\n",
    "    return grouped"
   ],
   "outputs": [],
   "execution_count": 29
  },
  {
   "metadata": {
    "ExecuteTime": {
     "end_time": "2024-10-21T13:35:31.254113Z",
     "start_time": "2024-10-21T13:35:26.833590Z"
    }
   },
   "cell_type": "code",
   "source": [
    "datajh_time_processed = [process_time(df) for i,df in enumerate(datajh.values())]\n",
    "datacm_time_processed = [process_time(df) for i,df  in enumerate(datacm.values())]\n",
    "groupedjh = combinedata(datajh_time_processed, \"Hour\")\n",
    "groupedcm = combinedata(datacm_time_processed, \"Hour\")"
   ],
   "outputs": [],
   "execution_count": 30
  },
  {
   "metadata": {
    "ExecuteTime": {
     "end_time": "2024-10-21T13:36:13.706750Z",
     "start_time": "2024-10-21T13:35:54.389707Z"
    }
   },
   "cell_type": "code",
   "source": [
    "groupedjh.to_csv(\"groupedjhall.csv\")\n",
    "groupedcm.to_csv(\"groupedcmall.csv\")"
   ],
   "outputs": [],
   "execution_count": 31
  }
 ],
 "metadata": {
  "kernelspec": {
   "display_name": "Python 3",
   "language": "python",
   "name": "python3"
  },
  "language_info": {
   "codemirror_mode": {
    "name": "ipython",
    "version": 2
   },
   "file_extension": ".py",
   "mimetype": "text/x-python",
   "name": "python",
   "nbconvert_exporter": "python",
   "pygments_lexer": "ipython2",
   "version": "2.7.6"
  }
 },
 "nbformat": 4,
 "nbformat_minor": 0
}
