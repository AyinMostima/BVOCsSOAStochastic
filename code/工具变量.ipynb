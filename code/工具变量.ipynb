{
 "cells": [
  {
   "cell_type": "code",
   "id": "initial_id",
   "metadata": {
    "collapsed": true,
    "ExecuteTime": {
     "end_time": "2024-10-23T07:39:40.184716Z",
     "start_time": "2024-10-23T07:39:38.777918Z"
    }
   },
   "source": [
    "import pandas as pd\n",
    "import numpy as np\n",
    "from matplotlib import pyplot as plt\n",
    "from matplotlib.ticker import MaxNLocator\n",
    "from matplotlib.ticker import MultipleLocator\n",
    "# plt.style.use('seaborn-paper')\n",
    "import seaborn as sns\n",
    "import joblib\n",
    "\n",
    "# plt.rcParams['font.family']='Times New Roman,Microsoft YaHei'# 设置字体族，中文为微软雅黑，英文为Times New Roman\n",
    "plt.rcParams['font.sans-serif'] = 'Times New Roman'\n",
    "plt.rcParams['mathtext.fontset'] = 'stix'  # 设置数学公式字体为stix\n",
    "plt.rcParams[\"text.usetex\"] = False\n",
    "plt.rcParams['axes.unicode_minus'] = False  # 用来正常显示负号\n",
    "import statsmodels.api as sm\n",
    "import warnings\n",
    "\n",
    "warnings.filterwarnings('ignore', category=FutureWarning)\n",
    "from sklearn.metrics import mean_squared_error\n"
   ],
   "outputs": [],
   "execution_count": 1
  },
  {
   "metadata": {
    "ExecuteTime": {
     "end_time": "2024-10-23T07:39:42.712694Z",
     "start_time": "2024-10-23T07:39:40.223343Z"
    }
   },
   "cell_type": "code",
   "source": [
    "\n",
    "datajh = pd.read_csv(\"groupedjhS.csv\")\n",
    "datacm = pd.read_csv(\"groupedcmS.csv\")\n",
    "datajhsoa = pd.read_csv(\"groupedjhSOA.csv\")\n",
    "datacmsoa = pd.read_csv(\"groupedcmSOA.csv\")"
   ],
   "id": "b0e52762bf291fca",
   "outputs": [],
   "execution_count": 2
  },
  {
   "metadata": {
    "ExecuteTime": {
     "end_time": "2024-10-23T07:39:43.671126Z",
     "start_time": "2024-10-23T07:39:43.640979Z"
    }
   },
   "cell_type": "code",
   "source": [
    "datajhsoa[\"SOA\"] = 0\n",
    "datajh[\"SOA\"] = 0\n",
    "for i in datajhsoa.columns[(datajhsoa.columns.get_loc(\"0.25um\")):(datajhsoa.columns.get_loc(\"0.28um\"))]:\n",
    "    datajhsoa[\"SOA\"] = datajhsoa[\"SOA\"] + datajhsoa[i]\n",
    "    datajh[\"SOA\"] = datajh[\"SOA\"] + datajh[i]\n",
    "datajhsoa[\"CSOA\"] = 0\n",
    "for i in datajhsoa.columns[(datajhsoa.columns.get_loc(\"C0.25um\")):(datajhsoa.columns.get_loc(\"C0.28um\"))]:\n",
    "    datajhsoa[\"CSOA\"] = datajhsoa[\"CSOA\"] + datajhsoa[i]\n",
    "datacmsoa[\"SOA\"] = 0\n",
    "datacm[\"SOA\"] = 0\n",
    "for i in datacmsoa.columns[(datacmsoa.columns.get_loc(\"0.25um\")):(datacmsoa.columns.get_loc(\"0.28um\"))]:\n",
    "    datacmsoa[\"SOA\"] = datacmsoa[\"SOA\"] + datacmsoa[i]\n",
    "    datacm[\"SOA\"] = datacm[\"SOA\"] + datacm[i]\n",
    "datacmsoa[\"CSOA\"] = 0\n",
    "for i in datacmsoa.columns[(datacmsoa.columns.get_loc(\"C0.25um\")):(datacmsoa.columns.get_loc(\"C0.28um\"))]:\n",
    "    datacmsoa[\"CSOA\"] = datacmsoa[\"CSOA\"] + datacmsoa[i]"
   ],
   "id": "6006ba99eebf8a3a",
   "outputs": [],
   "execution_count": 3
  },
  {
   "metadata": {
    "ExecuteTime": {
     "end_time": "2024-10-23T07:40:07.405736Z",
     "start_time": "2024-10-23T07:40:07.364063Z"
    }
   },
   "cell_type": "code",
   "source": "datare = datajh.groupby([\"Hour_Min\"]).mean(numeric_only=True).reset_index()",
   "id": "1eb4e179463616b1",
   "outputs": [],
   "execution_count": 4
  },
  {
   "metadata": {
    "ExecuteTime": {
     "end_time": "2024-10-23T07:41:03.388976Z",
     "start_time": "2024-10-23T07:41:03.378899Z"
    }
   },
   "cell_type": "code",
   "source": [
    "X=datare.异戊二烯浓度\n",
    "Z=datare.地面层温度\n",
    "y=datare.SOA"
   ],
   "id": "d5932230ba747754",
   "outputs": [],
   "execution_count": 6
  },
  {
   "metadata": {
    "ExecuteTime": {
     "end_time": "2024-10-23T07:41:04.259791Z",
     "start_time": "2024-10-23T07:41:04.238910Z"
    }
   },
   "cell_type": "code",
   "source": [
    "import statsmodels.api as sm\n",
    "from statsmodels.sandbox.regression.gmm import IV2SLS\n",
    "# 进行2SLS回归\n",
    "model = IV2SLS(y, X, Z)\n",
    "results = model.fit()"
   ],
   "id": "ecfe49cc3611dc2",
   "outputs": [],
   "execution_count": 7
  },
  {
   "metadata": {
    "ExecuteTime": {
     "end_time": "2024-10-23T07:41:16.973148Z",
     "start_time": "2024-10-23T07:41:16.943274Z"
    }
   },
   "cell_type": "code",
   "source": "results.summary()",
   "id": "461b604d66ac2391",
   "outputs": [
    {
     "data": {
      "text/plain": [
       "<class 'statsmodels.iolib.summary.Summary'>\n",
       "\"\"\"\n",
       "                          IV2SLS Regression Results                           \n",
       "==============================================================================\n",
       "Dep. Variable:                    SOA   R-squared:                       0.878\n",
       "Model:                         IV2SLS   Adj. R-squared:                  0.878\n",
       "Method:                     Two Stage   F-statistic:                       nan\n",
       "                        Least Squares   Prob (F-statistic):                nan\n",
       "Date:                Wed, 23 Oct 2024                                         \n",
       "Time:                        15:41:16                                         \n",
       "No. Observations:                1440                                         \n",
       "Df Residuals:                    1439                                         \n",
       "Df Model:                           1                                         \n",
       "==============================================================================\n",
       "                 coef    std err          t      P>|t|      [0.025      0.975]\n",
       "------------------------------------------------------------------------------\n",
       "异戊二烯浓度         0.8295      0.008    108.050      0.000       0.814       0.845\n",
       "==============================================================================\n",
       "Omnibus:                      243.973   Durbin-Watson:                   0.979\n",
       "Prob(Omnibus):                  0.000   Jarque-Bera (JB):              543.812\n",
       "Skew:                          -0.957   Prob(JB):                    8.18e-119\n",
       "Kurtosis:                       5.324   Cond. No.                         1.00\n",
       "==============================================================================\n",
       "\"\"\""
      ],
      "text/html": [
       "<table class=\"simpletable\">\n",
       "<caption>IV2SLS Regression Results</caption>\n",
       "<tr>\n",
       "  <th>Dep. Variable:</th>           <td>SOA</td>       <th>  R-squared:         </th> <td>   0.878</td>\n",
       "</tr>\n",
       "<tr>\n",
       "  <th>Model:</th>                 <td>IV2SLS</td>      <th>  Adj. R-squared:    </th> <td>   0.878</td>\n",
       "</tr>\n",
       "<tr>\n",
       "  <th>Method:</th>               <td>Two Stage</td>    <th>  F-statistic:       </th> <td>     nan</td>\n",
       "</tr>\n",
       "<tr>\n",
       "  <th></th>                    <td>Least Squares</td>  <th>  Prob (F-statistic):</th>  <td>   nan</td> \n",
       "</tr>\n",
       "<tr>\n",
       "  <th>Date:</th>             <td>Wed, 23 Oct 2024</td> <th>                     </th>     <td> </td>   \n",
       "</tr>\n",
       "<tr>\n",
       "  <th>Time:</th>                 <td>15:41:16</td>     <th>                     </th>     <td> </td>   \n",
       "</tr>\n",
       "<tr>\n",
       "  <th>No. Observations:</th>      <td>  1440</td>      <th>                     </th>     <td> </td>   \n",
       "</tr>\n",
       "<tr>\n",
       "  <th>Df Residuals:</th>          <td>  1439</td>      <th>                     </th>     <td> </td>   \n",
       "</tr>\n",
       "<tr>\n",
       "  <th>Df Model:</th>              <td>     1</td>      <th>                     </th>     <td> </td>   \n",
       "</tr>\n",
       "</table>\n",
       "<table class=\"simpletable\">\n",
       "<tr>\n",
       "     <td></td>       <th>coef</th>     <th>std err</th>      <th>t</th>      <th>P>|t|</th>  <th>[0.025</th>    <th>0.975]</th>  \n",
       "</tr>\n",
       "<tr>\n",
       "  <th>异戊二烯浓度</th> <td>    0.8295</td> <td>    0.008</td> <td>  108.050</td> <td> 0.000</td> <td>    0.814</td> <td>    0.845</td>\n",
       "</tr>\n",
       "</table>\n",
       "<table class=\"simpletable\">\n",
       "<tr>\n",
       "  <th>Omnibus:</th>       <td>243.973</td> <th>  Durbin-Watson:     </th> <td>   0.979</td> \n",
       "</tr>\n",
       "<tr>\n",
       "  <th>Prob(Omnibus):</th> <td> 0.000</td>  <th>  Jarque-Bera (JB):  </th> <td> 543.812</td> \n",
       "</tr>\n",
       "<tr>\n",
       "  <th>Skew:</th>          <td>-0.957</td>  <th>  Prob(JB):          </th> <td>8.18e-119</td>\n",
       "</tr>\n",
       "<tr>\n",
       "  <th>Kurtosis:</th>      <td> 5.324</td>  <th>  Cond. No.          </th> <td>    1.00</td> \n",
       "</tr>\n",
       "</table>"
      ],
      "text/latex": "\\begin{center}\n\\begin{tabular}{lclc}\n\\toprule\n\\textbf{Dep. Variable:}    &       SOA        & \\textbf{  R-squared:         } &     0.878   \\\\\n\\textbf{Model:}            &      IV2SLS      & \\textbf{  Adj. R-squared:    } &     0.878   \\\\\n\\textbf{Method:}           &    Two Stage     & \\textbf{  F-statistic:       } &       nan   \\\\\n\\textbf{}                  &  Least Squares   & \\textbf{  Prob (F-statistic):} &      nan    \\\\\n\\textbf{Date:}             & Wed, 23 Oct 2024 & \\textbf{                     } &             \\\\\n\\textbf{Time:}             &     15:41:16     & \\textbf{                     } &             \\\\\n\\textbf{No. Observations:} &        1440      & \\textbf{                     } &             \\\\\n\\textbf{Df Residuals:}     &        1439      & \\textbf{                     } &             \\\\\n\\textbf{Df Model:}         &           1      & \\textbf{                     } &             \\\\\n\\bottomrule\n\\end{tabular}\n\\begin{tabular}{lcccccc}\n                & \\textbf{coef} & \\textbf{std err} & \\textbf{t} & \\textbf{P$> |$t$|$} & \\textbf{[0.025} & \\textbf{0.975]}  \\\\\n\\midrule\n\\textbf{异戊二烯浓度} &       0.8295  &        0.008     &   108.050  &         0.000        &        0.814    &        0.845     \\\\\n\\bottomrule\n\\end{tabular}\n\\begin{tabular}{lclc}\n\\textbf{Omnibus:}       & 243.973 & \\textbf{  Durbin-Watson:     } &     0.979  \\\\\n\\textbf{Prob(Omnibus):} &   0.000 & \\textbf{  Jarque-Bera (JB):  } &   543.812  \\\\\n\\textbf{Skew:}          &  -0.957 & \\textbf{  Prob(JB):          } & 8.18e-119  \\\\\n\\textbf{Kurtosis:}      &   5.324 & \\textbf{  Cond. No.          } &      1.00  \\\\\n\\bottomrule\n\\end{tabular}\n%\\caption{IV2SLS Regression Results}\n\\end{center}"
     },
     "execution_count": 8,
     "metadata": {},
     "output_type": "execute_result"
    }
   ],
   "execution_count": 8
  },
  {
   "metadata": {
    "ExecuteTime": {
     "end_time": "2024-10-23T07:41:48.137037Z",
     "start_time": "2024-10-23T07:41:48.110546Z"
    }
   },
   "cell_type": "code",
   "source": [
    "# OLS 回归\n",
    "model_ols = sm.OLS(y, X).fit()\n",
    "\n",
    "# 2SLS 回归\n",
    "model_iv = IV2SLS(y, X, Z).fit()\n",
    "\n",
    "# 比较OLS和IV回归的系数差异（Hausman检验）\n",
    "b_ols = model_ols.params\n",
    "b_iv = model_iv.params\n",
    "V_ols = model_ols.cov_params()\n",
    "V_iv = model_iv.cov_params()\n",
    "\n",
    "# Hausman 检验统计量\n",
    "diff = b_iv - b_ols\n",
    "stat = diff.T @ np.linalg.inv(V_iv - V_ols) @ diff\n",
    "\n",
    "print(\"Hausman 检验统计量: \", stat)"
   ],
   "id": "b2021810c2a7305c",
   "outputs": [
    {
     "name": "stdout",
     "output_type": "stream",
     "text": [
      "Hausman 检验统计量:  640.3730710223003\n"
     ]
    }
   ],
   "execution_count": 9
  },
  {
   "metadata": {
    "ExecuteTime": {
     "end_time": "2024-10-23T07:42:24.074487Z",
     "start_time": "2024-10-23T07:42:24.050911Z"
    }
   },
   "cell_type": "code",
   "source": [
    "# 进行2SLS回归\n",
    "model_iv = IV2SLS(y, X, Z).fit()\n",
    "\n",
    "# 提取回归残差\n",
    "residuals = model_iv.resid\n",
    "\n",
    "# Sargan 检验统计量：残差与工具变量的回归\n",
    "sargan_stat = len(y) * sm.OLS(residuals, Z).fit().rsquared\n",
    "\n",
    "print(\"Sargan 检验统计量: \", sargan_stat)"
   ],
   "id": "d846186dbd7e5b23",
   "outputs": [
    {
     "name": "stdout",
     "output_type": "stream",
     "text": [
      "Sargan 检验统计量:  -3.197442310920451e-13\n"
     ]
    }
   ],
   "execution_count": 10
  }
 ],
 "metadata": {
  "kernelspec": {
   "display_name": "Python 3",
   "language": "python",
   "name": "python3"
  },
  "language_info": {
   "codemirror_mode": {
    "name": "ipython",
    "version": 2
   },
   "file_extension": ".py",
   "mimetype": "text/x-python",
   "name": "python",
   "nbconvert_exporter": "python",
   "pygments_lexer": "ipython2",
   "version": "2.7.6"
  }
 },
 "nbformat": 4,
 "nbformat_minor": 5
}
