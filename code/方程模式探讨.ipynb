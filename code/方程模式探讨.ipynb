{
 "cells": [
  {
   "cell_type": "code",
   "execution_count": 1,
   "metadata": {
    "collapsed": true
   },
   "outputs": [
    {
     "name": "stderr",
     "output_type": "stream",
     "text": [
      "C:\\Users\\aa271\\AppData\\Local\\Temp\\ipykernel_18860\\3220340077.py:6: MatplotlibDeprecationWarning: The seaborn styles shipped by Matplotlib are deprecated since 3.6, as they no longer correspond to the styles shipped by seaborn. However, they will remain available as 'seaborn-v0_8-<style>'. Alternatively, directly use the seaborn API instead.\n",
      "  plt.style.use('seaborn-paper')\n"
     ]
    }
   ],
   "source": [
    "import pandas as pd\n",
    "import numpy as np\n",
    "import networkx as nx\n",
    "from matplotlib import pyplot as plt\n",
    "%matplotlib inline\n",
    "plt.style.use('seaborn-paper')\n",
    "import seaborn as sns\n",
    "import joblib\n",
    "\n",
    "# plt.rcParams['font.family']='Times New Roman,Microsoft YaHei'# 设置字体族，中文为微软雅黑，英文为Times New Roman\n",
    "plt.rcParams['font.sans-serif'] = 'Times New Roman'\n",
    "plt.rcParams['mathtext.fontset'] = 'stix'  # 设置数学公式字体为stix\n",
    "plt.rcParams[\"text.usetex\"] = False\n",
    "plt.rcParams['axes.unicode_minus'] = False  # 用来正常显示负号"
   ]
  },
  {
   "cell_type": "code",
   "execution_count": 2,
   "outputs": [],
   "source": [
    "datajh = pd.read_csv(\"groupedjh.csv\")\n",
    "datacm = pd.read_csv(\"groupedcm.csv\")"
   ],
   "metadata": {
    "collapsed": false,
    "pycharm": {
     "name": "#%%\n"
    }
   }
  },
  {
   "cell_type": "code",
   "execution_count": 3,
   "outputs": [
    {
     "name": "stdout",
     "output_type": "stream",
     "text": [
      "Parallel mode is not available because physo is being ran from a notebook on a system returning multiprocessing.get_start_method() = 'spawn' (typically MACs/Windows). Run physo from the terminal to use parallel mode.\n",
      "Parallel mode is not available because having a CUDA-able version of pytorch was found to cause issues on some systems (even if the dataset is sent to the proper device). Please install the vanilla non CUDA-able version of pytorch via conda install pytorch (returning torch.cuda.is_available() = False) to use parallel mode.\n",
      "Parallel mode is not available because physo is being ran from a notebook on a system returning multiprocessing.get_start_method() = 'spawn' (typically MACs/Windows). Run physo from the terminal to use parallel mode.\n",
      "Parallel mode is not available because having a CUDA-able version of pytorch was found to cause issues on some systems (even if the dataset is sent to the proper device). Please install the vanilla non CUDA-able version of pytorch via conda install pytorch (returning torch.cuda.is_available() = False) to use parallel mode.\n",
      "\n",
      "default get_start_method : spawn\n",
      "Running from notebook : True\n",
      "Is CUDA available : True\n",
      "Total nb. of CPUs :  20\n",
      "Recommended config {'parallel_mode': False, 'n_cpus': 20}\n",
      "Parallel mode is not available because physo is being ran from a notebook on a system returning multiprocessing.get_start_method() = 'spawn' (typically MACs/Windows). Run physo from the terminal to use parallel mode.\n",
      "Parallel mode is not available because having a CUDA-able version of pytorch was found to cause issues on some systems (even if the dataset is sent to the proper device). Please install the vanilla non CUDA-able version of pytorch via conda install pytorch (returning torch.cuda.is_available() = False) to use parallel mode.\n",
      "Parallel mode is not available because physo is being ran from a notebook on a system returning multiprocessing.get_start_method() = 'spawn' (typically MACs/Windows). Run physo from the terminal to use parallel mode.\n",
      "Parallel mode is not available because having a CUDA-able version of pytorch was found to cause issues on some systems (even if the dataset is sent to the proper device). Please install the vanilla non CUDA-able version of pytorch via conda install pytorch (returning torch.cuda.is_available() = False) to use parallel mode.\n",
      "\n",
      "default get_start_method : spawn\n",
      "Running from notebook : True\n",
      "Is CUDA available : True\n",
      "Total nb. of CPUs :  20\n",
      "Recommended config {'parallel_mode': False, 'n_cpus': 20}\n"
     ]
    },
    {
     "name": "stderr",
     "output_type": "stream",
     "text": [
      "F:\\作业文件\\BVOC-SOA\\CI\\随机建模分析\\physo\\physym\\execute.py:182: UserWarning: Parallel mode is not available because physo is being ran from a notebook on a system returning multiprocessing.get_start_method() = 'spawn' (typically MACs/Windows). Run physo from the terminal to use parallel mode.\n",
      "  warnings.warn(msg)\n",
      "F:\\作业文件\\BVOC-SOA\\CI\\随机建模分析\\physo\\physym\\execute.py:192: UserWarning: Parallel mode is not available because having a CUDA-able version of pytorch was found to cause issues on some systems (even if the dataset is sent to the proper device). Please install the vanilla non CUDA-able version of pytorch via conda install pytorch (returning torch.cuda.is_available() = False) to use parallel mode.\n",
      "  warnings.warn(msg)\n",
      "F:\\作业文件\\BVOC-SOA\\CI\\随机建模分析\\physo\\physym\\reward.py:229: UserWarning: Parallel mode is not available on this system, switching to non parallel mode.\n",
      "  warnings.warn(\"Parallel mode is not available on this system, switching to non parallel mode.\")\n"
     ]
    }
   ],
   "source": [
    "# External packages\n",
    "import torch\n",
    "# Internal code import\n",
    "import physo\n",
    "from physo.learn import monitoring\n",
    "from physo.task  import benchmark"
   ],
   "metadata": {
    "collapsed": false,
    "pycharm": {
     "name": "#%%\n"
    }
   }
  },
  {
   "cell_type": "code",
   "execution_count": 4,
   "outputs": [
    {
     "name": "stdout",
     "output_type": "stream",
     "text": [
      "cuda\n"
     ]
    }
   ],
   "source": [
    "# Device\n",
    "DEVICE = 'cpu'\n",
    "if torch.cuda.is_available():\n",
    "    DEVICE = 'cuda'\n",
    "print(DEVICE)"
   ],
   "metadata": {
    "collapsed": false,
    "pycharm": {
     "name": "#%%\n"
    }
   }
  },
  {
   "cell_type": "code",
   "execution_count": 5,
   "outputs": [
    {
     "name": "stderr",
     "output_type": "stream",
     "text": [
      "C:\\Users\\aa271\\AppData\\Local\\Temp\\ipykernel_18860\\2730368618.py:1: FutureWarning: The default value of numeric_only in DataFrameGroupBy.mean is deprecated. In a future version, numeric_only will default to False. Either specify numeric_only or select only columns which should be valid for the function.\n",
      "  data=datajh[(datajh[\"Season\"]==\"Summer\")].groupby([\"Hour_Min\"]).mean().reset_index()\n"
     ]
    }
   ],
   "source": [
    "data=datajh[(datajh[\"Season\"]==\"Summer\")].groupby([\"Hour_Min\"]).mean().reset_index()\n",
    "X_=data[[\"O3\",\"NOx\",\"SO2\",\"异戊二烯浓度\",\"地面层温度\",\"地面层净辐射\",\"地面层湿度\"]]\n",
    "y_=data[\"PM1\"]"
   ],
   "metadata": {
    "collapsed": false,
    "pycharm": {
     "name": "#%%\n"
    }
   }
  },
  {
   "cell_type": "code",
   "execution_count": 6,
   "outputs": [],
   "source": [
    "name=[\"O3\",\"NOx\",\"SO2\",\"BVOCs\",\"T\",\"R\",\"H\"]"
   ],
   "metadata": {
    "collapsed": false,
    "pycharm": {
     "name": "#%%\n"
    }
   }
  },
  {
   "cell_type": "code",
   "execution_count": 7,
   "outputs": [],
   "source": [
    "# ------ Vectors ------\n",
    "# Stack of all input variables\n",
    "X = torch.tensor(np.array(X_).reshape(X_.shape[1],-1)).to(DEVICE)\n",
    "# Output of symbolic function to guess\n",
    "y = torch.tensor(np.array(y_)).to(DEVICE)\n",
    "# ------ Constants ------\n",
    "const1 = torch.tensor(np.array(1.)).to(DEVICE)"
   ],
   "metadata": {
    "collapsed": false,
    "pycharm": {
     "name": "#%%\n"
    }
   }
  },
  {
   "cell_type": "code",
   "execution_count": 8,
   "outputs": [
    {
     "data": {
      "text/plain": "<Figure size 720x576 with 7 Axes>",
      "image/png": "[encoded data removed]"
     },
     "metadata": {
      "needs_background": "light"
     },
     "output_type": "display_data"
    }
   ],
   "source": [
    "n_dim = np.array(X_).reshape(X_.shape[1],-1).shape[0]\n",
    "fig, ax = plt.subplots(n_dim, 1, figsize=(10,8))\n",
    "for i in range (n_dim):\n",
    "    curr_ax = ax if n_dim==1 else ax[i]\n",
    "    curr_ax.plot(np.array(X_).reshape(X_.shape[1],-1)[i], np.array(y_), 'k.',)\n",
    "    curr_ax.set_xlabel(name[i])\n",
    "    curr_ax.set_ylabel(\"y\")\n",
    "\n",
    "plt.tight_layout()\n",
    "plt.show()"
   ],
   "metadata": {
    "collapsed": false,
    "pycharm": {
     "name": "#%%\n"
    }
   }
  },
  {
   "cell_type": "code",
   "execution_count": 9,
   "outputs": [],
   "source": [
    "# Choosing a [length, time, mass, mol, K] convention for this run\n",
    "args_make_tokens = {\n",
    "                # operations\n",
    "                \"op_names\"             : [\"mul\", \"add\", \"sub\", \"div\", \"inv\", \"n2\", \"sqrt\", \"exp\", \"log\", \"sin\", \"cos\"],\n",
    "                \"use_protected_ops\"    : True,\n",
    "                # input variables\n",
    "                \"input_var_ids\"        : {\"O\" : 0 , \"NOx\" : 1 , \"SO\" : 2  , \"BVOCs\" : 3  ,\"T\" : 4 ,\"R\":5,\"H\":6},\n",
    "                # \"input_var_units\"      : {\"O3\" : [1,-3,0,0,0] , \"NOx\" : [1,-3,0,0,0] , \"SO2\" : [1,-3,0,0,0]  , \"BVOCs\" : [1,-3,0,0,0] ,\"T\" : [0,0,1,0,0],\"R\":[0,0,0,1,0],\"H\":[0,0,0,0,1] },\n",
    "                 \"input_var_units\"      : {\"O\" : [0,0,0] , \"NO\" : [0,0,0] , \"SO\" : [0,0,0]  , \"BVOCs\" : [0,0,0] ,\"T\" : [0,0,0],\"R\":[0,0,0],\"H\":[0,0,0] },\n",
    "                \"input_var_complexity\" : {\"O\" : 1., \"NOx\" : 1. , \"SO\" : 1., \"BVOCs\" :  1.,\"T\" :  1.,\"R\": 1.,\"H\": 1.},\n",
    "                # constants\n",
    "                \"constants\"            : {\"1\" : const1          , },\n",
    "                \"constants_units\"      : {\"1\" : [0,0,0] , },\n",
    "                \"constants_complexity\" : {\"1\" : 1.              , },\n",
    "                # free constants\n",
    "                \"free_constants\"            : {\"a\"                      , \"b\"                   , \"c\"                   },\n",
    "                \"free_constants_units\"      : {\"a\" : [0, 0, 0]  , \"b\" : [0, 0, 0] ,\"c\" : [0, 0, 0]},\n",
    "                \"free_constants_init_val\"   : {\"a\" : 1.                 , \"b\" : 1.              , \"c\" : 1.                         },\n",
    "                \"free_constants_complexity\" : {\"a\" : 1.                 , \"b\" : 1.              , \"c\" : 1.                   },\n",
    "                    }\n",
    "\n",
    "library_config = {\"args_make_tokens\"  : args_make_tokens,\n",
    "                  \"superparent_units\" : [0,0,0] ,\n",
    "                  \"superparent_name\"  : \"SOA\",\n",
    "                }"
   ],
   "metadata": {
    "collapsed": false,
    "pycharm": {
     "name": "#%%\n"
    }
   }
  },
  {
   "cell_type": "code",
   "execution_count": 10,
   "outputs": [],
   "source": [
    "reward_config = {\n",
    "                 \"reward_function\"     : physo.physym.reward.SquashedNRMSE, # PHYSICALITY\n",
    "                 \"zero_out_unphysical\" : True,\n",
    "                 \"zero_out_duplicates\" : False,\n",
    "                 \"keep_lowest_complexity_duplicate\" : False,\n",
    "                 \"parallel_mode\" : True,\n",
    "                 \"n_cpus\"        : None,\n",
    "                }"
   ],
   "metadata": {
    "collapsed": false,
    "pycharm": {
     "name": "#%%\n"
    }
   }
  },
  {
   "cell_type": "code",
   "execution_count": 11,
   "outputs": [],
   "source": [
    "BATCH_SIZE = int(1e4)\n",
    "MAX_LENGTH = 35\n",
    "GET_OPTIMIZER = lambda model : torch.optim.Adam(\n",
    "                                    model.parameters(),\n",
    "                                    lr=0.0025, #0.001, #0.0050, #0.0005, #1,  #lr=0.0025\n",
    "                                                )"
   ],
   "metadata": {
    "collapsed": false,
    "pycharm": {
     "name": "#%%\n"
    }
   }
  },
  {
   "cell_type": "code",
   "execution_count": 12,
   "outputs": [
    {
     "name": "stdout",
     "output_type": "stream",
     "text": [
      "Parallel mode is not available because physo is being ran from a notebook on a system returning multiprocessing.get_start_method() = 'spawn' (typically MACs/Windows). Run physo from the terminal to use parallel mode.\n",
      "Parallel mode is not available because having a CUDA-able version of pytorch was found to cause issues on some systems (even if the dataset is sent to the proper device). Please install the vanilla non CUDA-able version of pytorch via conda install pytorch (returning torch.cuda.is_available() = False) to use parallel mode.\n",
      "Parallel mode is not available because physo is being ran from a notebook on a system returning multiprocessing.get_start_method() = 'spawn' (typically MACs/Windows). Run physo from the terminal to use parallel mode.\n",
      "Parallel mode is not available because having a CUDA-able version of pytorch was found to cause issues on some systems (even if the dataset is sent to the proper device). Please install the vanilla non CUDA-able version of pytorch via conda install pytorch (returning torch.cuda.is_available() = False) to use parallel mode.\n",
      "\n",
      "default get_start_method : spawn\n",
      "Running from notebook : True\n",
      "Is CUDA available : True\n",
      "Total nb. of CPUs :  20\n",
      "Recommended config {'parallel_mode': False, 'n_cpus': 20}\n"
     ]
    },
    {
     "name": "stderr",
     "output_type": "stream",
     "text": [
      "F:\\作业文件\\BVOC-SOA\\CI\\随机建模分析\\physo\\physym\\execute.py:182: UserWarning: Parallel mode is not available because physo is being ran from a notebook on a system returning multiprocessing.get_start_method() = 'spawn' (typically MACs/Windows). Run physo from the terminal to use parallel mode.\n",
      "  warnings.warn(msg)\n",
      "F:\\作业文件\\BVOC-SOA\\CI\\随机建模分析\\physo\\physym\\execute.py:192: UserWarning: Parallel mode is not available because having a CUDA-able version of pytorch was found to cause issues on some systems (even if the dataset is sent to the proper device). Please install the vanilla non CUDA-able version of pytorch via conda install pytorch (returning torch.cuda.is_available() = False) to use parallel mode.\n",
      "  warnings.warn(msg)\n",
      "F:\\作业文件\\BVOC-SOA\\CI\\随机建模分析\\physo\\physym\\reward.py:229: UserWarning: Parallel mode is not available on this system, switching to non parallel mode.\n",
      "  warnings.warn(\"Parallel mode is not available on this system, switching to non parallel mode.\")\n"
     ]
    }
   ],
   "source": [
    "learning_config = {\n",
    "    # Batch related\n",
    "    'batch_size'       : BATCH_SIZE,\n",
    "    'max_time_step'    : MAX_LENGTH,\n",
    "    'n_epochs'         : int(1e9),\n",
    "    # Loss related\n",
    "    'gamma_decay'      : 0.7,\n",
    "    'entropy_weight'   : 0.005,\n",
    "    # Reward related\n",
    "    'risk_factor'      : 0.05,\n",
    "    'rewards_computer' : physo.physym.reward.make_RewardsComputer (**reward_config),\n",
    "    # Optimizer\n",
    "    'get_optimizer'    : GET_OPTIMIZER,\n",
    "    'observe_units'    : True,\n",
    "}"
   ],
   "metadata": {
    "collapsed": false,
    "pycharm": {
     "name": "#%%\n"
    }
   }
  },
  {
   "cell_type": "code",
   "execution_count": 13,
   "outputs": [],
   "source": [
    "free_const_opti_args = {\n",
    "            'loss'   : \"MSE\",\n",
    "            'method' : 'LBFGS',\n",
    "            'method_args': {\n",
    "                        'n_steps' : 15,\n",
    "                        'tol'     : 1e-8,\n",
    "                        'lbfgs_func_args' : {\n",
    "                            'max_iter'       : 4,\n",
    "                            'line_search_fn' : \"strong_wolfe\",\n",
    "                                             },\n",
    "                            },\n",
    "        }"
   ],
   "metadata": {
    "collapsed": false,
    "pycharm": {
     "name": "#%%\n"
    }
   }
  },
  {
   "cell_type": "code",
   "execution_count": 14,
   "outputs": [],
   "source": [
    "priors_config  = [\n",
    "                #(\"UniformArityPrior\", None),\n",
    "                # LENGTH RELATED\n",
    "                (\"HardLengthPrior\"  , {\"min_length\": 8, \"max_length\": MAX_LENGTH, }),\n",
    "                (\"SoftLengthPrior\"  , {\"length_loc\": 12, \"scale\": 5, }),\n",
    "                # RELATIONSHIPS RELATED\n",
    "                (\"NoUselessInversePrior\"  , None),\n",
    "                (\"PhysicalUnitsPrior\", {\"prob_eps\": np.finfo(np.float32).eps}), # PHYSICALITY\n",
    "                (\"NestedFunctions\", {\"functions\":[\"exp\",], \"max_nesting\" : 1}),\n",
    "                (\"NestedFunctions\", {\"functions\":[\"log\",], \"max_nesting\" : 1}),\n",
    "                (\"NestedFunctions\", {\"functions\":[\"cos\",\"sin\", \"log\", \"exp\",], \"max_nesting\" : 1}),\n",
    "                (\"NestedTrigonometryPrior\", {\"max_nesting\" : 1}),\n",
    "                #(\"OccurrencesPrior\", {\"targets\" : [\"1\",], \"max\" : [3,] }),\n",
    "                 ]"
   ],
   "metadata": {
    "collapsed": false,
    "pycharm": {
     "name": "#%%\n"
    }
   }
  },
  {
   "cell_type": "code",
   "execution_count": 15,
   "outputs": [],
   "source": [
    "cell_config = {\n",
    "    \"hidden_size\" : 128,\n",
    "    \"n_layers\"    : 1,\n",
    "    \"is_lobotomized\" : False,\n",
    "}"
   ],
   "metadata": {
    "collapsed": false,
    "pycharm": {
     "name": "#%%\n"
    }
   }
  },
  {
   "cell_type": "code",
   "execution_count": 16,
   "outputs": [],
   "source": [
    "save_path_training_curves = 'demo_curves.png'\n",
    "save_path_log             = 'demo.log'\n",
    "\n",
    "run_logger     = monitoring.RunLogger(save_path = save_path_log,\n",
    "                                      do_save = True)\n",
    "\n",
    "run_visualiser = monitoring.RunVisualiser (epoch_refresh_rate = 5,\n",
    "                                           save_path = save_path_training_curves,\n",
    "                                           do_show   = False,\n",
    "                                           do_prints = True,\n",
    "                                           do_save   = True, )"
   ],
   "metadata": {
    "collapsed": false,
    "pycharm": {
     "name": "#%%\n"
    }
   }
  },
  {
   "cell_type": "code",
   "execution_count": 17,
   "outputs": [],
   "source": [
    "run_config = {\n",
    "    \"learning_config\"      : learning_config,\n",
    "    \"reward_config\"        : reward_config,\n",
    "    \"free_const_opti_args\" : free_const_opti_args,\n",
    "    \"library_config\"       : library_config,\n",
    "    \"priors_config\"        : priors_config,\n",
    "    \"cell_config\"          : cell_config,\n",
    "    \"run_logger\"           : run_logger,\n",
    "    \"run_visualiser\"       : run_visualiser,\n",
    "}"
   ],
   "metadata": {
    "collapsed": false,
    "pycharm": {
     "name": "#%%\n"
    }
   }
  },
  {
   "cell_type": "code",
   "execution_count": null,
   "outputs": [
    {
     "name": "stderr",
     "output_type": "stream",
     "text": [
      "F:\\作业文件\\BVOC-SOA\\CI\\随机建模分析\\physo\\physym\\functions.py:404: UserWarning: Physical units of token NOx not found in units dictionary {'O': [0, 0, 0], 'NO': [0, 0, 0], 'SO': [0, 0, 0], 'BVOCs': [0, 0, 0], 'T': [0, 0, 0], 'R': [0, 0, 0], 'H': [0, 0, 0]}, assuming it is                 dimensionless ie units=[0. 0. 0. 0. 0. 0. 0.]\n",
      "  warnings.warn(\n",
      "F:\\作业文件\\BVOC-SOA\\CI\\随机建模分析\\physo\\physym\\execute.py:493: UserWarning: Unable to optimize free constants of prog [sub b n2 cos div b sqrt sqrt 1] -> r = 0\n",
      "  warnings.warn(\"Unable to optimize free constants of prog %s -> r = 0\" % (str(prog)))\n",
      "F:\\作业文件\\BVOC-SOA\\CI\\随机建模分析\\physo\\physym\\execute.py:493: UserWarning: Unable to optimize free constants of prog [exp sqrt sqrt mul sqrt c add b n2 BVOCs] -> r = 0\n",
      "  warnings.warn(\"Unable to optimize free constants of prog %s -> r = 0\" % (str(prog)))\n",
      "F:\\作业文件\\BVOC-SOA\\CI\\随机建模分析\\physo\\physym\\execute.py:493: UserWarning: Unable to optimize free constants of prog [inv sub n2 div exp sub O c log T mul sub O c H] -> r = 0\n",
      "  warnings.warn(\"Unable to optimize free constants of prog %s -> r = 0\" % (str(prog)))\n",
      "F:\\作业文件\\BVOC-SOA\\CI\\随机建模分析\\physo\\physym\\execute.py:493: UserWarning: Unable to optimize free constants of prog [exp mul b inv div sub R O inv mul R sqrt 1] -> r = 0\n",
      "  warnings.warn(\"Unable to optimize free constants of prog %s -> r = 0\" % (str(prog)))\n",
      "F:\\作业文件\\BVOC-SOA\\CI\\随机建模分析\\physo\\physym\\execute.py:493: UserWarning: Unable to optimize free constants of prog [sqrt log n2 sub c inv n2 c] -> r = 0\n",
      "  warnings.warn(\"Unable to optimize free constants of prog %s -> r = 0\" % (str(prog)))\n",
      "F:\\作业文件\\BVOC-SOA\\CI\\随机建模分析\\physo\\physym\\execute.py:493: UserWarning: Unable to optimize free constants of prog [cos mul b mul b mul sqrt mul SO n2 inv BVOCs O] -> r = 0\n",
      "  warnings.warn(\"Unable to optimize free constants of prog %s -> r = 0\" % (str(prog)))\n",
      "F:\\作业文件\\BVOC-SOA\\CI\\随机建模分析\\physo\\physym\\execute.py:493: UserWarning: Unable to optimize free constants of prog [n2 inv sqrt div cos b inv add b b] -> r = 0\n",
      "  warnings.warn(\"Unable to optimize free constants of prog %s -> r = 0\" % (str(prog)))\n",
      "F:\\作业文件\\BVOC-SOA\\CI\\随机建模分析\\physo\\physym\\execute.py:493: UserWarning: Unable to optimize free constants of prog [exp n2 mul b mul n2 a NOx] -> r = 0\n",
      "  warnings.warn(\"Unable to optimize free constants of prog %s -> r = 0\" % (str(prog)))\n",
      "F:\\作业文件\\BVOC-SOA\\CI\\随机建模分析\\physo\\physym\\execute.py:493: UserWarning: Unable to optimize free constants of prog [exp div div c sqrt T mul O add n2 H n2 a] -> r = 0\n",
      "  warnings.warn(\"Unable to optimize free constants of prog %s -> r = 0\" % (str(prog)))\n",
      "F:\\作业文件\\BVOC-SOA\\CI\\随机建模分析\\physo\\physym\\execute.py:493: UserWarning: Unable to optimize free constants of prog [sin mul b sub n2 T div 1 c] -> r = 0\n",
      "  warnings.warn(\"Unable to optimize free constants of prog %s -> r = 0\" % (str(prog)))\n",
      "F:\\作业文件\\BVOC-SOA\\CI\\随机建模分析\\physo\\physym\\execute.py:493: UserWarning: Unable to optimize free constants of prog [exp add c inv div H inv n2 inv div NOx mul c c] -> r = 0\n",
      "  warnings.warn(\"Unable to optimize free constants of prog %s -> r = 0\" % (str(prog)))\n",
      "F:\\作业文件\\BVOC-SOA\\CI\\随机建模分析\\physo\\physym\\execute.py:493: UserWarning: Unable to optimize free constants of prog [mul cos NOx n2 sub BVOCs mul inv log mul inv R c sin SO] -> r = 0\n",
      "  warnings.warn(\"Unable to optimize free constants of prog %s -> r = 0\" % (str(prog)))\n",
      "F:\\作业文件\\BVOC-SOA\\CI\\随机建模分析\\physo\\physym\\execute.py:493: UserWarning: Unable to optimize free constants of prog [sub BVOCs sqrt cos div O div sqrt c R] -> r = 0\n",
      "  warnings.warn(\"Unable to optimize free constants of prog %s -> r = 0\" % (str(prog)))\n",
      "F:\\作业文件\\BVOC-SOA\\CI\\随机建模分析\\physo\\physym\\execute.py:493: UserWarning: Unable to optimize free constants of prog [inv exp mul NOx add BVOCs add b SO] -> r = 0\n",
      "  warnings.warn(\"Unable to optimize free constants of prog %s -> r = 0\" % (str(prog)))\n",
      "F:\\作业文件\\BVOC-SOA\\CI\\随机建模分析\\physo\\physym\\execute.py:493: UserWarning: Unable to optimize free constants of prog [cos n2 sub SO div div n2 BVOCs n2 div a inv SO c] -> r = 0\n",
      "  warnings.warn(\"Unable to optimize free constants of prog %s -> r = 0\" % (str(prog)))\n"
     ]
    }
   ],
   "source": [
    "benchmark.dummy_epoch(X, y, run_config)"
   ],
   "metadata": {
    "collapsed": false,
    "pycharm": {
     "name": "#%%\n"
    }
   }
  },
  {
   "cell_type": "code",
   "execution_count": null,
   "outputs": [
    {
     "name": "stderr",
     "output_type": "stream",
     "text": [
      "F:\\作业文件\\BVOC-SOA\\CI\\随机建模分析\\physo\\physym\\functions.py:404: UserWarning: Physical units of token NOx not found in units dictionary {'O': [0, 0, 0], 'NO': [0, 0, 0], 'SO': [0, 0, 0], 'BVOCs': [0, 0, 0], 'T': [0, 0, 0], 'R': [0, 0, 0], 'H': [0, 0, 0]}, assuming it is                 dimensionless ie units=[0. 0. 0. 0. 0. 0. 0.]\n",
      "  warnings.warn(\n"
     ]
    },
    {
     "name": "stdout",
     "output_type": "stream",
     "text": [
      "Unable to save pareto figure.\n",
      "=========== Epoch 00000 ===========\n",
      "-> Time 50.29 s\n",
      "\n",
      "Overall best  at R=0.504217\n",
      "Unable to print status.\n"
     ]
    },
    {
     "name": "stderr",
     "output_type": "stream",
     "text": [
      "F:\\作业文件\\BVOC-SOA\\CI\\随机建模分析\\physo\\physym\\functions.py:404: UserWarning: Physical units of token NOx not found in units dictionary {'O': [0, 0, 0], 'NO': [0, 0, 0], 'SO': [0, 0, 0], 'BVOCs': [0, 0, 0], 'T': [0, 0, 0], 'R': [0, 0, 0], 'H': [0, 0, 0]}, assuming it is                 dimensionless ie units=[0. 0. 0. 0. 0. 0. 0.]\n",
      "  warnings.warn(\n"
     ]
    },
    {
     "name": "stdout",
     "output_type": "stream",
     "text": [
      "=========== Epoch 00001 ===========\n",
      "-> Time 2081.52 s\n",
      "\n",
      "Overall best  at R=0.504768\n",
      "Unable to print status.\n"
     ]
    },
    {
     "name": "stderr",
     "output_type": "stream",
     "text": [
      "F:\\作业文件\\BVOC-SOA\\CI\\随机建模分析\\physo\\physym\\functions.py:404: UserWarning: Physical units of token NOx not found in units dictionary {'O': [0, 0, 0], 'NO': [0, 0, 0], 'SO': [0, 0, 0], 'BVOCs': [0, 0, 0], 'T': [0, 0, 0], 'R': [0, 0, 0], 'H': [0, 0, 0]}, assuming it is                 dimensionless ie units=[0. 0. 0. 0. 0. 0. 0.]\n",
      "  warnings.warn(\n"
     ]
    },
    {
     "name": "stdout",
     "output_type": "stream",
     "text": [
      "=========== Epoch 00002 ===========\n",
      "-> Time 1808.06 s\n",
      "\n",
      "Overall best  at R=0.504768\n",
      "Unable to print status.\n"
     ]
    },
    {
     "name": "stderr",
     "output_type": "stream",
     "text": [
      "F:\\作业文件\\BVOC-SOA\\CI\\随机建模分析\\physo\\physym\\functions.py:404: UserWarning: Physical units of token NOx not found in units dictionary {'O': [0, 0, 0], 'NO': [0, 0, 0], 'SO': [0, 0, 0], 'BVOCs': [0, 0, 0], 'T': [0, 0, 0], 'R': [0, 0, 0], 'H': [0, 0, 0]}, assuming it is                 dimensionless ie units=[0. 0. 0. 0. 0. 0. 0.]\n",
      "  warnings.warn(\n",
      "F:\\作业文件\\BVOC-SOA\\CI\\随机建模分析\\physo\\physym\\execute.py:493: UserWarning: Unable to optimize free constants of prog [cos sqrt mul sqrt R div sqrt sub mul 1 inv c c div BVOCs c] -> r = 0\n",
      "  warnings.warn(\"Unable to optimize free constants of prog %s -> r = 0\" % (str(prog)))\n",
      "F:\\作业文件\\BVOC-SOA\\CI\\随机建模分析\\physo\\physym\\execute.py:493: UserWarning: Unable to optimize free constants of prog [cos n2 n2 sub div R 1 n2 c] -> r = 0\n",
      "  warnings.warn(\"Unable to optimize free constants of prog %s -> r = 0\" % (str(prog)))\n",
      "F:\\作业文件\\BVOC-SOA\\CI\\随机建模分析\\physo\\physym\\execute.py:493: UserWarning: Unable to optimize free constants of prog [n2 sin inv mul sub 1 c add a mul sqrt BVOCs a] -> r = 0\n",
      "  warnings.warn(\"Unable to optimize free constants of prog %s -> r = 0\" % (str(prog)))\n",
      "F:\\作业文件\\BVOC-SOA\\CI\\随机建模分析\\physo\\physym\\execute.py:493: UserWarning: Unable to optimize free constants of prog [n2 exp n2 div O sqrt div div T b 1] -> r = 0\n",
      "  warnings.warn(\"Unable to optimize free constants of prog %s -> r = 0\" % (str(prog)))\n",
      "F:\\作业文件\\BVOC-SOA\\CI\\随机建模分析\\physo\\physym\\execute.py:493: UserWarning: Unable to optimize free constants of prog [log sqrt inv mul c mul inv b c] -> r = 0\n",
      "  warnings.warn(\"Unable to optimize free constants of prog %s -> r = 0\" % (str(prog)))\n",
      "F:\\作业文件\\BVOC-SOA\\CI\\随机建模分析\\physo\\physym\\execute.py:493: UserWarning: Unable to optimize free constants of prog [n2 inv add a exp sub c inv NOx] -> r = 0\n",
      "  warnings.warn(\"Unable to optimize free constants of prog %s -> r = 0\" % (str(prog)))\n",
      "F:\\作业文件\\BVOC-SOA\\CI\\随机建模分析\\physo\\physym\\execute.py:493: UserWarning: Unable to optimize free constants of prog [inv div mul n2 NOx mul a sin div sqrt b R b] -> r = 0\n",
      "  warnings.warn(\"Unable to optimize free constants of prog %s -> r = 0\" % (str(prog)))\n",
      "F:\\作业文件\\BVOC-SOA\\CI\\随机建模分析\\physo\\physym\\execute.py:493: UserWarning: Unable to optimize free constants of prog [mul BVOCs exp sqrt div c mul T n2 add add a n2 SO b] -> r = 0\n",
      "  warnings.warn(\"Unable to optimize free constants of prog %s -> r = 0\" % (str(prog)))\n",
      "F:\\作业文件\\BVOC-SOA\\CI\\随机建模分析\\physo\\physym\\execute.py:493: UserWarning: Unable to optimize free constants of prog [add b sqrt sub a cos sqrt add SO T] -> r = 0\n",
      "  warnings.warn(\"Unable to optimize free constants of prog %s -> r = 0\" % (str(prog)))\n",
      "F:\\作业文件\\BVOC-SOA\\CI\\随机建模分析\\physo\\physym\\execute.py:493: UserWarning: Unable to optimize free constants of prog [exp div inv mul n2 b b add a BVOCs] -> r = 0\n",
      "  warnings.warn(\"Unable to optimize free constants of prog %s -> r = 0\" % (str(prog)))\n",
      "F:\\作业文件\\BVOC-SOA\\CI\\随机建模分析\\physo\\physym\\execute.py:493: UserWarning: Unable to optimize free constants of prog [n2 inv mul mul c R cos div H 1] -> r = 0\n",
      "  warnings.warn(\"Unable to optimize free constants of prog %s -> r = 0\" % (str(prog)))\n",
      "F:\\作业文件\\BVOC-SOA\\CI\\随机建模分析\\physo\\physym\\execute.py:493: UserWarning: Unable to optimize free constants of prog [mul b div inv mul sin BVOCs b b] -> r = 0\n",
      "  warnings.warn(\"Unable to optimize free constants of prog %s -> r = 0\" % (str(prog)))\n",
      "F:\\作业文件\\BVOC-SOA\\CI\\随机建模分析\\physo\\physym\\execute.py:493: UserWarning: Unable to optimize free constants of prog [sub exp NOx sub n2 n2 b add b R] -> r = 0\n",
      "  warnings.warn(\"Unable to optimize free constants of prog %s -> r = 0\" % (str(prog)))\n",
      "F:\\作业文件\\BVOC-SOA\\CI\\随机建模分析\\physo\\physym\\execute.py:493: UserWarning: Unable to optimize free constants of prog [log sqrt add div add T add add a O b c a] -> r = 0\n",
      "  warnings.warn(\"Unable to optimize free constants of prog %s -> r = 0\" % (str(prog)))\n",
      "F:\\作业文件\\BVOC-SOA\\CI\\随机建模分析\\physo\\physym\\execute.py:493: UserWarning: Unable to optimize free constants of prog [sub sqrt R div a add sqrt a a] -> r = 0\n",
      "  warnings.warn(\"Unable to optimize free constants of prog %s -> r = 0\" % (str(prog)))\n",
      "F:\\作业文件\\BVOC-SOA\\CI\\随机建模分析\\physo\\physym\\execute.py:493: UserWarning: Unable to optimize free constants of prog [exp mul mul R n2 NOx sqrt add b a] -> r = 0\n",
      "  warnings.warn(\"Unable to optimize free constants of prog %s -> r = 0\" % (str(prog)))\n",
      "F:\\作业文件\\BVOC-SOA\\CI\\随机建模分析\\physo\\physym\\execute.py:493: UserWarning: Unable to optimize free constants of prog [add R inv log div O inv sub T c] -> r = 0\n",
      "  warnings.warn(\"Unable to optimize free constants of prog %s -> r = 0\" % (str(prog)))\n"
     ]
    }
   ],
   "source": [
    "rewards, candidates = physo.fit (X, y, run_config,\n",
    "                                stop_reward = 0.9999,\n",
    "                                stop_after_n_epochs = 5)"
   ],
   "metadata": {
    "collapsed": false,
    "pycharm": {
     "name": "#%%\n"
    }
   }
  },
  {
   "cell_type": "code",
   "execution_count": null,
   "outputs": [],
   "source": [
    "run_visualiser.make_visualisation()\n",
    "run_visualiser.save_visualisation()\n",
    "run_visualiser.save_data()"
   ],
   "metadata": {
    "collapsed": false,
    "pycharm": {
     "name": "#%%\n"
    }
   }
  },
  {
   "cell_type": "code",
   "execution_count": null,
   "outputs": [],
   "source": [
    "2"
   ],
   "metadata": {
    "collapsed": false,
    "pycharm": {
     "name": "#%%\n"
    }
   }
  },
  {
   "cell_type": "code",
   "execution_count": null,
   "outputs": [],
   "source": [
    "def plot_pareto_front(run_logger,\n",
    "                      do_simplify                   = True,\n",
    "                      show_superparent_at_beginning = True,\n",
    "                      eq_text_size                  = 12,\n",
    "                      delta_xlim                    = [0, 5 ],\n",
    "                      delta_ylim                    = [0, 15],\n",
    "                      frac_delta_equ                = [0.03, 0.03],\n",
    "                      figsize                       = (20, 10),\n",
    "                     ):\n",
    "\n",
    "    pareto_front_complexities, pareto_front_programs, pareto_front_r, pareto_front_rmse = run_logger.get_pareto_front()\n",
    "\n",
    "    pareto_front_rmse = pareto_front_rmse\n",
    "    # Fig params\n",
    "    plt.rc('text', usetex=True)\n",
    "    plt.rc('font', family='serif')\n",
    "    # enables new_dummy_symbol = \"\\square\"\n",
    "    plt.rc('text.latex', preamble=r'\\usepackage{amssymb} \\usepackage{xcolor}')\n",
    "    plt.rc('font', size=32)\n",
    "\n",
    "    # Fig\n",
    "    fig, ax = plt.subplots(1, 1, figsize=figsize)\n",
    "    ax.plot(pareto_front_complexities, pareto_front_rmse, 'r-')\n",
    "    ax.plot(pareto_front_complexities, pareto_front_rmse, 'ro')\n",
    "\n",
    "    # Limits\n",
    "    xmin = pareto_front_complexities.min() + delta_xlim[0]\n",
    "    xmax = pareto_front_complexities.max() + delta_xlim[1]\n",
    "    ymin = pareto_front_rmse.min() + delta_ylim[0]\n",
    "    ymax = pareto_front_rmse.max() + delta_ylim[1]\n",
    "    ax.set_xlim(xmin, xmax)\n",
    "    ax.set_ylim(ymin, ymax)\n",
    "\n",
    "    # Axes labels\n",
    "    ax.set_xlabel(\"Expression complexity\")\n",
    "    ax.set_ylabel(\"RMSE\")\n",
    "\n",
    "\n",
    "    for i_prog in range (len(pareto_front_programs)):\n",
    "        prog = pareto_front_programs[i_prog]\n",
    "\n",
    "        text_pos  = [pareto_front_complexities[i_prog] + frac_delta_equ[0]*(xmax-xmin),\n",
    "                     pareto_front_rmse[i_prog]         + frac_delta_equ[1]*(ymax-ymin)]\n",
    "        # Getting latex expr\n",
    "        latex_str = prog.get_infix_latex(do_simplify = do_simplify)\n",
    "        # Adding \"superparent =\" before program to make it pretty\n",
    "        if show_superparent_at_beginning:\n",
    "            latex_str = prog.library.superparent.name + ' =' + latex_str\n",
    "\n",
    "\n",
    "        ax.text(text_pos[0], text_pos[1], f'${latex_str}$', size = eq_text_size)\n",
    "plot_pareto_front(run_logger)"
   ],
   "metadata": {
    "collapsed": false,
    "pycharm": {
     "name": "#%%\n"
    }
   }
  },
  {
   "cell_type": "code",
   "execution_count": null,
   "outputs": [],
   "source": [
    "pareto_front_complexities, pareto_front_programs, pareto_front_r, pareto_front_rmse = run_logger.get_pareto_front()"
   ],
   "metadata": {
    "collapsed": false,
    "pycharm": {
     "name": "#%%\n"
    }
   }
  },
  {
   "cell_type": "code",
   "execution_count": null,
   "outputs": [],
   "source": [
    "\n",
    "for prog in pareto_front_programs:\n",
    "    prog.show_infix(do_simplify=True)\n",
    "    free_consts = prog.free_const_values.detach().cpu().numpy()\n",
    "    for i in range (len(free_consts)):\n",
    "        print(\"%s = %f\"%(prog.library.free_const_names[i], free_consts[i]))"
   ],
   "metadata": {
    "collapsed": false,
    "pycharm": {
     "name": "#%%\n"
    }
   }
  }
 ],
 "metadata": {
  "kernelspec": {
   "display_name": "Python 3",
   "language": "python",
   "name": "python3"
  },
  "language_info": {
   "codemirror_mode": {
    "name": "ipython",
    "version": 2
   },
   "file_extension": ".py",
   "mimetype": "text/x-python",
   "name": "python",
   "nbconvert_exporter": "python",
   "pygments_lexer": "ipython2",
   "version": "2.7.6"
  }
 },
 "nbformat": 4,
 "nbformat_minor": 0
}